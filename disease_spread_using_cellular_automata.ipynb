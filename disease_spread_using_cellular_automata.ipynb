{
  "nbformat": 4,
  "nbformat_minor": 0,
  "metadata": {
    "colab": {
      "private_outputs": true,
      "provenance": [],
      "authorship_tag": "ABX9TyPBJZ7lf1NxiCxRZ+gpwZ1S",
      "include_colab_link": true
    },
    "kernelspec": {
      "name": "python3",
      "display_name": "Python 3"
    },
    "language_info": {
      "name": "python"
    }
  },
  "cells": [
    {
      "cell_type": "markdown",
      "metadata": {
        "id": "view-in-github",
        "colab_type": "text"
      },
      "source": [
        "<a href=\"https://colab.research.google.com/github/guhanakilan/NICT-cellular-automata/blob/main/disease_spread_using_cellular_automata.ipynb\" target=\"_parent\"><img src=\"https://colab.research.google.com/assets/colab-badge.svg\" alt=\"Open In Colab\"/></a>"
      ]
    },
    {
      "cell_type": "code",
      "execution_count": null,
      "metadata": {
        "id": "Q0LOzi_nUaKi"
      },
      "outputs": [],
      "source": [
        "import numpy as np\n",
        "import matplotlib.pyplot as plt\n",
        "import random\n",
        "\n",
        "# Parameters\n",
        "grid_size = (100, 100)\n",
        "initial_infection_rate = 0.01\n",
        "initial_vaccination_rate = 0.05\n",
        "p_infect = 0.05\n",
        "p_recover = 0.01\n",
        "p_vaccinate = 0.02\n",
        "num_time_steps = 200\n",
        "\n",
        "# States\n",
        "SUSCEPTIBLE = 0\n",
        "INFECTED = 1\n",
        "RECOVERED = 2\n",
        "VACCINATED = 3\n",
        "\n",
        "# Initialize the grid\n",
        "def initialize_grid(size, infection_rate, vaccination_rate):\n",
        "    grid = np.zeros(size, dtype=int)\n",
        "    for x in range(size[0]):\n",
        "        for y in range(size[1]):\n",
        "            if random.random() < infection_rate:\n",
        "                grid[x][y] = INFECTED\n",
        "            elif random.random() < vaccination_rate:\n",
        "                grid[x][y] = VACCINATED\n",
        "    return grid\n",
        "\n",
        "# Get neighbors (Moore neighborhood)\n",
        "def get_neighbors(grid, x, y):\n",
        "    neighbors = [(x+i, y+j) for i in [-1, 0, 1] for j in [-1, 0, 1] if not (i == 0 and j == 0)]\n",
        "    valid_neighbors = [(nx, ny) for nx, ny in neighbors if 0 <= nx < grid.shape[0] and 0 <= ny < grid.shape[1]]\n",
        "    return valid_neighbors\n",
        "\n",
        "# Check if any neighbor is infected\n",
        "def any_neighbor_infected(grid, x, y):\n",
        "    neighbors = get_neighbors(grid, x, y)\n",
        "    for nx, ny in neighbors:\n",
        "        if grid[nx][ny] == INFECTED:\n",
        "            return True\n",
        "    return False\n",
        "\n",
        "# Initialize the grid\n",
        "grid = initialize_grid(grid_size, initial_infection_rate, initial_vaccination_rate)\n",
        "\n",
        "# Simulation loop\n",
        "susceptible_counts = []\n",
        "infected_counts = []\n",
        "recovered_counts = []\n",
        "vaccinated_counts = []\n",
        "\n",
        "for time_step in range(num_time_steps):\n",
        "    new_grid = grid.copy()\n",
        "    for x in range(grid_size[0]):\n",
        "        for y in range(grid_size[1]):\n",
        "            if grid[x][y] == SUSCEPTIBLE:\n",
        "                if any_neighbor_infected(grid, x, y):\n",
        "                    if random.random() < p_infect:\n",
        "                        new_grid[x][y] = INFECTED\n",
        "                elif random.random() < p_vaccinate:\n",
        "                    new_grid[x][y] = VACCINATED\n",
        "            elif grid[x][y] == INFECTED:\n",
        "                if random.random() < p_recover:\n",
        "                    new_grid[x][y] = RECOVERED\n",
        "\n",
        "    grid = new_grid\n",
        "\n",
        "    # Count the number of each state\n",
        "    susceptible_count = np.sum(grid == SUSCEPTIBLE)\n",
        "    infected_count = np.sum(grid == INFECTED)\n",
        "    recovered_count = np.sum(grid == RECOVERED)\n",
        "    vaccinated_count = np.sum(grid == VACCINATED)\n",
        "\n",
        "    susceptible_counts.append(susceptible_count)\n",
        "    infected_counts.append(infected_count)\n",
        "    recovered_counts.append(recovered_count)\n",
        "    vaccinated_counts.append(vaccinated_count)\n",
        "\n",
        "# Plotting the results\n",
        "plt.figure(figsize=(10, 6))\n",
        "plt.plot(susceptible_counts, label='Susceptible')\n",
        "plt.plot(infected_counts, label='Infected')\n",
        "plt.plot(recovered_counts, label='Recovered')\n",
        "plt.plot(vaccinated_counts, label='Vaccinated')\n",
        "plt.xlabel('Time Steps')\n",
        "plt.ylabel('Number of Individuals')\n",
        "plt.legend()\n",
        "plt.title('Disease Spread Simulation using Cellular Automata')\n",
        "plt.show()"
      ]
    },
    {
      "cell_type": "code",
      "source": [],
      "metadata": {
        "id": "CL7Di-nxhJIe"
      },
      "execution_count": null,
      "outputs": []
    },
    {
      "cell_type": "code",
      "source": [],
      "metadata": {
        "id": "2qk5ItR4dKVT"
      },
      "execution_count": null,
      "outputs": []
    }
  ]
}